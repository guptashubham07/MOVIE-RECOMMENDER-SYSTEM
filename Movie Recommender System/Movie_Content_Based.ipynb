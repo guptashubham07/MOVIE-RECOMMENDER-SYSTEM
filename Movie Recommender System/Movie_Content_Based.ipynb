{
 "cells": [
  {
   "cell_type": "code",
   "execution_count": 6,
   "id": "129ddb64",
   "metadata": {},
   "outputs": [],
   "source": [
    "import pandas as pd\n",
    "import numpy as np\n",
    "import math\n",
    "import matplotlib.pyplot as plt"
   ]
  },
  {
   "cell_type": "code",
   "execution_count": 7,
   "id": "6024081b",
   "metadata": {},
   "outputs": [],
   "source": [
    "df = pd.read_csv('imdb.csv')"
   ]
  },
  {
   "cell_type": "code",
   "execution_count": 9,
   "id": "b45254b4",
   "metadata": {},
   "outputs": [
    {
     "ename": "KeyError",
     "evalue": "\"['No_of_Votes', 'Gross', 'Meta_score'] not found in axis\"",
     "output_type": "error",
     "traceback": [
      "\u001b[1;31m---------------------------------------------------------------------------\u001b[0m",
      "\u001b[1;31mKeyError\u001b[0m                                  Traceback (most recent call last)",
      "Cell \u001b[1;32mIn[9], line 1\u001b[0m\n\u001b[1;32m----> 1\u001b[0m df\u001b[38;5;241m=\u001b[39m\u001b[43mdf\u001b[49m\u001b[38;5;241;43m.\u001b[39;49m\u001b[43mdrop\u001b[49m\u001b[43m(\u001b[49m\u001b[43m[\u001b[49m\u001b[38;5;124;43m'\u001b[39;49m\u001b[38;5;124;43mNo_of_Votes\u001b[39;49m\u001b[38;5;124;43m'\u001b[39;49m\u001b[43m,\u001b[49m\u001b[43m \u001b[49m\u001b[38;5;124;43m'\u001b[39;49m\u001b[38;5;124;43mGross\u001b[39;49m\u001b[38;5;124;43m'\u001b[39;49m\u001b[43m,\u001b[49m\u001b[43m \u001b[49m\u001b[38;5;124;43m'\u001b[39;49m\u001b[38;5;124;43mMeta_score\u001b[39;49m\u001b[38;5;124;43m'\u001b[39;49m\u001b[43m]\u001b[49m\u001b[43m,\u001b[49m\u001b[43maxis\u001b[49m\u001b[38;5;241;43m=\u001b[39;49m\u001b[38;5;241;43m1\u001b[39;49m\u001b[43m)\u001b[49m\n",
      "File \u001b[1;32m~\\anaconda3\\lib\\site-packages\\pandas\\util\\_decorators.py:331\u001b[0m, in \u001b[0;36mdeprecate_nonkeyword_arguments.<locals>.decorate.<locals>.wrapper\u001b[1;34m(*args, **kwargs)\u001b[0m\n\u001b[0;32m    325\u001b[0m \u001b[38;5;28;01mif\u001b[39;00m \u001b[38;5;28mlen\u001b[39m(args) \u001b[38;5;241m>\u001b[39m num_allow_args:\n\u001b[0;32m    326\u001b[0m     warnings\u001b[38;5;241m.\u001b[39mwarn(\n\u001b[0;32m    327\u001b[0m         msg\u001b[38;5;241m.\u001b[39mformat(arguments\u001b[38;5;241m=\u001b[39m_format_argument_list(allow_args)),\n\u001b[0;32m    328\u001b[0m         \u001b[38;5;167;01mFutureWarning\u001b[39;00m,\n\u001b[0;32m    329\u001b[0m         stacklevel\u001b[38;5;241m=\u001b[39mfind_stack_level(),\n\u001b[0;32m    330\u001b[0m     )\n\u001b[1;32m--> 331\u001b[0m \u001b[38;5;28;01mreturn\u001b[39;00m func(\u001b[38;5;241m*\u001b[39margs, \u001b[38;5;241m*\u001b[39m\u001b[38;5;241m*\u001b[39mkwargs)\n",
      "File \u001b[1;32m~\\anaconda3\\lib\\site-packages\\pandas\\core\\frame.py:5399\u001b[0m, in \u001b[0;36mDataFrame.drop\u001b[1;34m(self, labels, axis, index, columns, level, inplace, errors)\u001b[0m\n\u001b[0;32m   5251\u001b[0m \u001b[38;5;129m@deprecate_nonkeyword_arguments\u001b[39m(version\u001b[38;5;241m=\u001b[39m\u001b[38;5;28;01mNone\u001b[39;00m, allowed_args\u001b[38;5;241m=\u001b[39m[\u001b[38;5;124m\"\u001b[39m\u001b[38;5;124mself\u001b[39m\u001b[38;5;124m\"\u001b[39m, \u001b[38;5;124m\"\u001b[39m\u001b[38;5;124mlabels\u001b[39m\u001b[38;5;124m\"\u001b[39m])\n\u001b[0;32m   5252\u001b[0m \u001b[38;5;28;01mdef\u001b[39;00m \u001b[38;5;21mdrop\u001b[39m(  \u001b[38;5;66;03m# type: ignore[override]\u001b[39;00m\n\u001b[0;32m   5253\u001b[0m     \u001b[38;5;28mself\u001b[39m,\n\u001b[1;32m   (...)\u001b[0m\n\u001b[0;32m   5260\u001b[0m     errors: IgnoreRaise \u001b[38;5;241m=\u001b[39m \u001b[38;5;124m\"\u001b[39m\u001b[38;5;124mraise\u001b[39m\u001b[38;5;124m\"\u001b[39m,\n\u001b[0;32m   5261\u001b[0m ) \u001b[38;5;241m-\u001b[39m\u001b[38;5;241m>\u001b[39m DataFrame \u001b[38;5;241m|\u001b[39m \u001b[38;5;28;01mNone\u001b[39;00m:\n\u001b[0;32m   5262\u001b[0m     \u001b[38;5;124;03m\"\"\"\u001b[39;00m\n\u001b[0;32m   5263\u001b[0m \u001b[38;5;124;03m    Drop specified labels from rows or columns.\u001b[39;00m\n\u001b[0;32m   5264\u001b[0m \n\u001b[1;32m   (...)\u001b[0m\n\u001b[0;32m   5397\u001b[0m \u001b[38;5;124;03m            weight  1.0     0.8\u001b[39;00m\n\u001b[0;32m   5398\u001b[0m \u001b[38;5;124;03m    \"\"\"\u001b[39;00m\n\u001b[1;32m-> 5399\u001b[0m     \u001b[38;5;28;01mreturn\u001b[39;00m \u001b[38;5;28;43msuper\u001b[39;49m\u001b[43m(\u001b[49m\u001b[43m)\u001b[49m\u001b[38;5;241;43m.\u001b[39;49m\u001b[43mdrop\u001b[49m\u001b[43m(\u001b[49m\n\u001b[0;32m   5400\u001b[0m \u001b[43m        \u001b[49m\u001b[43mlabels\u001b[49m\u001b[38;5;241;43m=\u001b[39;49m\u001b[43mlabels\u001b[49m\u001b[43m,\u001b[49m\n\u001b[0;32m   5401\u001b[0m \u001b[43m        \u001b[49m\u001b[43maxis\u001b[49m\u001b[38;5;241;43m=\u001b[39;49m\u001b[43maxis\u001b[49m\u001b[43m,\u001b[49m\n\u001b[0;32m   5402\u001b[0m \u001b[43m        \u001b[49m\u001b[43mindex\u001b[49m\u001b[38;5;241;43m=\u001b[39;49m\u001b[43mindex\u001b[49m\u001b[43m,\u001b[49m\n\u001b[0;32m   5403\u001b[0m \u001b[43m        \u001b[49m\u001b[43mcolumns\u001b[49m\u001b[38;5;241;43m=\u001b[39;49m\u001b[43mcolumns\u001b[49m\u001b[43m,\u001b[49m\n\u001b[0;32m   5404\u001b[0m \u001b[43m        \u001b[49m\u001b[43mlevel\u001b[49m\u001b[38;5;241;43m=\u001b[39;49m\u001b[43mlevel\u001b[49m\u001b[43m,\u001b[49m\n\u001b[0;32m   5405\u001b[0m \u001b[43m        \u001b[49m\u001b[43minplace\u001b[49m\u001b[38;5;241;43m=\u001b[39;49m\u001b[43minplace\u001b[49m\u001b[43m,\u001b[49m\n\u001b[0;32m   5406\u001b[0m \u001b[43m        \u001b[49m\u001b[43merrors\u001b[49m\u001b[38;5;241;43m=\u001b[39;49m\u001b[43merrors\u001b[49m\u001b[43m,\u001b[49m\n\u001b[0;32m   5407\u001b[0m \u001b[43m    \u001b[49m\u001b[43m)\u001b[49m\n",
      "File \u001b[1;32m~\\anaconda3\\lib\\site-packages\\pandas\\util\\_decorators.py:331\u001b[0m, in \u001b[0;36mdeprecate_nonkeyword_arguments.<locals>.decorate.<locals>.wrapper\u001b[1;34m(*args, **kwargs)\u001b[0m\n\u001b[0;32m    325\u001b[0m \u001b[38;5;28;01mif\u001b[39;00m \u001b[38;5;28mlen\u001b[39m(args) \u001b[38;5;241m>\u001b[39m num_allow_args:\n\u001b[0;32m    326\u001b[0m     warnings\u001b[38;5;241m.\u001b[39mwarn(\n\u001b[0;32m    327\u001b[0m         msg\u001b[38;5;241m.\u001b[39mformat(arguments\u001b[38;5;241m=\u001b[39m_format_argument_list(allow_args)),\n\u001b[0;32m    328\u001b[0m         \u001b[38;5;167;01mFutureWarning\u001b[39;00m,\n\u001b[0;32m    329\u001b[0m         stacklevel\u001b[38;5;241m=\u001b[39mfind_stack_level(),\n\u001b[0;32m    330\u001b[0m     )\n\u001b[1;32m--> 331\u001b[0m \u001b[38;5;28;01mreturn\u001b[39;00m func(\u001b[38;5;241m*\u001b[39margs, \u001b[38;5;241m*\u001b[39m\u001b[38;5;241m*\u001b[39mkwargs)\n",
      "File \u001b[1;32m~\\anaconda3\\lib\\site-packages\\pandas\\core\\generic.py:4505\u001b[0m, in \u001b[0;36mNDFrame.drop\u001b[1;34m(self, labels, axis, index, columns, level, inplace, errors)\u001b[0m\n\u001b[0;32m   4503\u001b[0m \u001b[38;5;28;01mfor\u001b[39;00m axis, labels \u001b[38;5;129;01min\u001b[39;00m axes\u001b[38;5;241m.\u001b[39mitems():\n\u001b[0;32m   4504\u001b[0m     \u001b[38;5;28;01mif\u001b[39;00m labels \u001b[38;5;129;01mis\u001b[39;00m \u001b[38;5;129;01mnot\u001b[39;00m \u001b[38;5;28;01mNone\u001b[39;00m:\n\u001b[1;32m-> 4505\u001b[0m         obj \u001b[38;5;241m=\u001b[39m \u001b[43mobj\u001b[49m\u001b[38;5;241;43m.\u001b[39;49m\u001b[43m_drop_axis\u001b[49m\u001b[43m(\u001b[49m\u001b[43mlabels\u001b[49m\u001b[43m,\u001b[49m\u001b[43m \u001b[49m\u001b[43maxis\u001b[49m\u001b[43m,\u001b[49m\u001b[43m \u001b[49m\u001b[43mlevel\u001b[49m\u001b[38;5;241;43m=\u001b[39;49m\u001b[43mlevel\u001b[49m\u001b[43m,\u001b[49m\u001b[43m \u001b[49m\u001b[43merrors\u001b[49m\u001b[38;5;241;43m=\u001b[39;49m\u001b[43merrors\u001b[49m\u001b[43m)\u001b[49m\n\u001b[0;32m   4507\u001b[0m \u001b[38;5;28;01mif\u001b[39;00m inplace:\n\u001b[0;32m   4508\u001b[0m     \u001b[38;5;28mself\u001b[39m\u001b[38;5;241m.\u001b[39m_update_inplace(obj)\n",
      "File \u001b[1;32m~\\anaconda3\\lib\\site-packages\\pandas\\core\\generic.py:4546\u001b[0m, in \u001b[0;36mNDFrame._drop_axis\u001b[1;34m(self, labels, axis, level, errors, only_slice)\u001b[0m\n\u001b[0;32m   4544\u001b[0m         new_axis \u001b[38;5;241m=\u001b[39m axis\u001b[38;5;241m.\u001b[39mdrop(labels, level\u001b[38;5;241m=\u001b[39mlevel, errors\u001b[38;5;241m=\u001b[39merrors)\n\u001b[0;32m   4545\u001b[0m     \u001b[38;5;28;01melse\u001b[39;00m:\n\u001b[1;32m-> 4546\u001b[0m         new_axis \u001b[38;5;241m=\u001b[39m \u001b[43maxis\u001b[49m\u001b[38;5;241;43m.\u001b[39;49m\u001b[43mdrop\u001b[49m\u001b[43m(\u001b[49m\u001b[43mlabels\u001b[49m\u001b[43m,\u001b[49m\u001b[43m \u001b[49m\u001b[43merrors\u001b[49m\u001b[38;5;241;43m=\u001b[39;49m\u001b[43merrors\u001b[49m\u001b[43m)\u001b[49m\n\u001b[0;32m   4547\u001b[0m     indexer \u001b[38;5;241m=\u001b[39m axis\u001b[38;5;241m.\u001b[39mget_indexer(new_axis)\n\u001b[0;32m   4549\u001b[0m \u001b[38;5;66;03m# Case for non-unique axis\u001b[39;00m\n\u001b[0;32m   4550\u001b[0m \u001b[38;5;28;01melse\u001b[39;00m:\n",
      "File \u001b[1;32m~\\anaconda3\\lib\\site-packages\\pandas\\core\\indexes\\base.py:6934\u001b[0m, in \u001b[0;36mIndex.drop\u001b[1;34m(self, labels, errors)\u001b[0m\n\u001b[0;32m   6932\u001b[0m \u001b[38;5;28;01mif\u001b[39;00m mask\u001b[38;5;241m.\u001b[39many():\n\u001b[0;32m   6933\u001b[0m     \u001b[38;5;28;01mif\u001b[39;00m errors \u001b[38;5;241m!=\u001b[39m \u001b[38;5;124m\"\u001b[39m\u001b[38;5;124mignore\u001b[39m\u001b[38;5;124m\"\u001b[39m:\n\u001b[1;32m-> 6934\u001b[0m         \u001b[38;5;28;01mraise\u001b[39;00m \u001b[38;5;167;01mKeyError\u001b[39;00m(\u001b[38;5;124mf\u001b[39m\u001b[38;5;124m\"\u001b[39m\u001b[38;5;132;01m{\u001b[39;00m\u001b[38;5;28mlist\u001b[39m(labels[mask])\u001b[38;5;132;01m}\u001b[39;00m\u001b[38;5;124m not found in axis\u001b[39m\u001b[38;5;124m\"\u001b[39m)\n\u001b[0;32m   6935\u001b[0m     indexer \u001b[38;5;241m=\u001b[39m indexer[\u001b[38;5;241m~\u001b[39mmask]\n\u001b[0;32m   6936\u001b[0m \u001b[38;5;28;01mreturn\u001b[39;00m \u001b[38;5;28mself\u001b[39m\u001b[38;5;241m.\u001b[39mdelete(indexer)\n",
      "\u001b[1;31mKeyError\u001b[0m: \"['No_of_Votes', 'Gross', 'Meta_score'] not found in axis\""
     ]
    }
   ],
   "source": [
    "df=df.drop(['No_of_Votes', 'Gross', 'Meta_score'],axis=1)"
   ]
  },
  {
   "cell_type": "code",
   "execution_count": null,
   "id": "e5e6cc7d",
   "metadata": {},
   "outputs": [],
   "source": [
    "df.head(5)"
   ]
  },
  {
   "cell_type": "code",
   "execution_count": null,
   "id": "c7cda4c4",
   "metadata": {
    "scrolled": true
   },
   "outputs": [],
   "source": [
    "df.isnull().sum()"
   ]
  },
  {
   "cell_type": "code",
   "execution_count": null,
   "id": "000058b9",
   "metadata": {},
   "outputs": [],
   "source": [
    "df.shape"
   ]
  },
  {
   "cell_type": "markdown",
   "id": "d7d29322",
   "metadata": {},
   "source": [
    "# Data Visualization"
   ]
  },
  {
   "cell_type": "code",
   "execution_count": null,
   "id": "2ac2fd18",
   "metadata": {},
   "outputs": [],
   "source": [
    "import wordcloud\n",
    "from wordcloud import WordCloud,STOPWORDS"
   ]
  },
  {
   "cell_type": "code",
   "execution_count": null,
   "id": "844319f1",
   "metadata": {
    "scrolled": true
   },
   "outputs": [],
   "source": [
    "df['Series_Title'] = df['Series_Title'].fillna(\"\").astype('str')\n",
    "title_corpus = ' '.join(df['Series_Title'])\n",
    "title_wordcloud = WordCloud(stopwords=STOPWORDS, background_color='black', height=2000, width=4000).generate(title_corpus)\n",
    "plt.figure(figsize=(8,8))\n",
    "plt.imshow(title_wordcloud)\n",
    "plt.axis('off')\n",
    "plt.show()"
   ]
  },
  {
   "cell_type": "code",
   "execution_count": 10,
   "id": "ab7f987b",
   "metadata": {},
   "outputs": [
    {
     "data": {
      "text/plain": [
       "array([[<Axes: title={'center': 'IMDB_Rating'}>]], dtype=object)"
      ]
     },
     "execution_count": 10,
     "metadata": {},
     "output_type": "execute_result"
    },
    {
     "data": {
      "image/png": "[encoded data removed]",
      "text/plain": [
       "<Figure size 640x480 with 1 Axes>"
      ]
     },
     "metadata": {},
     "output_type": "display_data"
    }
   ],
   "source": [
    "df.hist(column='IMDB_Rating')"
   ]
  },
  {
   "cell_type": "markdown",
   "id": "a4dee23b",
   "metadata": {},
   "source": [
    "# Genre Filter"
   ]
  },
  {
   "cell_type": "code",
   "execution_count": 11,
   "id": "13263d10",
   "metadata": {},
   "outputs": [
    {
     "name": "stdout",
     "output_type": "stream",
     "text": [
      "{'War', 'Crime', 'Music', 'Mystery', 'Drama', 'Film-Noir', 'Animation', 'History', 'Sport', 'Musical', 'Biography', 'Adventure', 'Romance', 'Family', 'Sci-Fi', 'Thriller', 'Western', 'Fantasy', 'Horror', 'Comedy', 'Action'}\n"
     ]
    }
   ],
   "source": [
    "genre_labels = set()\n",
    "a=df['Genre'].str.split(',').values\n",
    "b=df['Genre'].str.split(', ').values\n",
    "c=df['Genre'].str.split(' ,').values\n",
    "d=np.concatenate((np.concatenate((a, b), axis=0),c),axis=0)\n",
    "\n",
    "for s in np.logical_and(a, b, c):\n",
    "   genre_labels = genre_labels.union(set(s))\n",
    "\n",
    "print(genre_labels)"
   ]
  },
  {
   "cell_type": "code",
   "execution_count": 12,
   "id": "0de88f80",
   "metadata": {},
   "outputs": [
    {
     "data": {
      "text/plain": [
       "[['Drama', 724],\n",
       " ['Comedy', 233],\n",
       " ['Crime', 209],\n",
       " ['Adventure', 196],\n",
       " ['Action', 189],\n",
       " ['Thriller', 137],\n",
       " ['Romance', 125],\n",
       " ['Biography', 109],\n",
       " ['Mystery', 99],\n",
       " ['Animation', 82],\n",
       " ['Sci-Fi', 67],\n",
       " ['Fantasy', 66],\n",
       " ['History', 56],\n",
       " ['Family', 56],\n",
       " ['War', 51],\n",
       " ['Music', 35],\n",
       " ['Horror', 32],\n",
       " ['Western', 20],\n",
       " ['Film-Noir', 19],\n",
       " ['Sport', 19],\n",
       " ['Musical', 17]]"
      ]
     },
     "execution_count": 12,
     "metadata": {},
     "output_type": "execute_result"
    }
   ],
   "source": [
    "def count_word(df,Genre, census):\n",
    "    keyword_count = dict()\n",
    "    for s in census: \n",
    "        keyword_count[s] = 0\n",
    "    for census_keywords in np.logical_and(a, b, c):        \n",
    "        if type(census_keywords) == int and pd.isnull(census_keywords): \n",
    "            continue        \n",
    "        for s in [s for s in census_keywords if s in census]: \n",
    "            if pd.notnull(s): \n",
    "                keyword_count[s] += 1\n",
    "   \n",
    "    keyword_occurences = []\n",
    "    for k,v in keyword_count.items():\n",
    "        keyword_occurences.append([k,v])\n",
    "    keyword_occurences.sort(key = lambda x:x[1], reverse = True)\n",
    "    return keyword_occurences, keyword_count\n",
    "\n",
    "keyword_occurences, dum = count_word(df, 'Genre', genre_labels)\n",
    "keyword_occurences[:]\n"
   ]
  },
  {
   "cell_type": "code",
   "execution_count": 13,
   "id": "01fabc55",
   "metadata": {},
   "outputs": [
    {
     "name": "stdout",
     "output_type": "stream",
     "text": [
      "<class 'pandas.core.series.Series'>\n"
     ]
    }
   ],
   "source": [
    "df['Genre'] = df['Genre'].fillna(\"\").astype('str')\n",
    "print(type(df['Genre']))"
   ]
  },
  {
   "cell_type": "code",
   "execution_count": 14,
   "id": "5017b7cf",
   "metadata": {},
   "outputs": [
    {
     "data": {
      "text/plain": [
       "(1000, 132)"
      ]
     },
     "execution_count": 14,
     "metadata": {},
     "output_type": "execute_result"
    }
   ],
   "source": [
    "from sklearn.feature_extraction.text import TfidfVectorizer\n",
    "tf = TfidfVectorizer(analyzer='word',ngram_range=(1, 2),min_df=0, stop_words='english')\n",
    "tfidf_matrix = tf.fit_transform(df['Genre'])\n",
    "tfidf_matrix.shape"
   ]
  },
  {
   "cell_type": "code",
   "execution_count": 15,
   "id": "3f48944f",
   "metadata": {},
   "outputs": [
    {
     "data": {
      "text/plain": [
       "array([[1.        , 0.32753693, 0.2090213 , 0.32753693],\n",
       "       [0.32753693, 1.        , 0.63816101, 1.        ],\n",
       "       [0.2090213 , 0.63816101, 1.        , 0.63816101],\n",
       "       [0.32753693, 1.        , 0.63816101, 1.        ]])"
      ]
     },
     "execution_count": 15,
     "metadata": {},
     "output_type": "execute_result"
    }
   ],
   "source": [
    "from sklearn.metrics.pairwise import linear_kernel\n",
    "cosine_sim = linear_kernel(tfidf_matrix, tfidf_matrix)\n",
    "cosine_sim[:4, :4]"
   ]
  },
  {
   "cell_type": "code",
   "execution_count": 16,
   "id": "21035719",
   "metadata": {},
   "outputs": [],
   "source": [
    "# Build a 1-dimensional array with movie titles\n",
    "titles = df['Series_Title']\n",
    "indices = pd.Series(df.index, index=df['Series_Title'])\n",
    "\n",
    "# Function that get movie recommendations based on the cosine similarity score of movie genres\n",
    "def genre_recommendations(title):\n",
    "    if title in titles.values:\n",
    "        idx = indices[title]\n",
    "        sim_scores = list(enumerate(cosine_sim[idx]))\n",
    "        sim_scores = sorted(sim_scores, key=lambda x: x[1], reverse=True)\n",
    "        sim_scores = sim_scores[0:50]\n",
    "        movie_indices = [i[0] for i in sim_scores]\n",
    "        name2 = titles.iloc[movie_indices]\n",
    "        return name2\n",
    "\n",
    "    dff = df[df['Series_Title'].str.contains(title)]\n",
    "    x=dff['Series_Title'].iloc[0]\n",
    "    y=genre_recommendations(x)\n",
    "    return y"
   ]
  },
  {
   "cell_type": "code",
   "execution_count": 17,
   "id": "a9a76dcf",
   "metadata": {},
   "outputs": [
    {
     "data": {
      "text/plain": [
       "226    Harry Potter and the Deathly Hallows: Part 2\n",
       "377                                        Big Fish\n",
       "497                                        The Fall\n",
       "498                                      Life of Pi\n",
       "537                              La montaña sagrada\n",
       "964                                        Dead Man\n",
       "292                           El ángel exterminador\n",
       "25                                   The Green Mile\n",
       "487                          Låt den rätte komma in\n",
       "762                           Death Note: Desu nôto\n",
       "Name: Series_Title, dtype: object"
      ]
     },
     "execution_count": 17,
     "metadata": {},
     "output_type": "execute_result"
    }
   ],
   "source": [
    "genre_recommendations('Harry Potter').head(10)"
   ]
  },
  {
   "cell_type": "code",
   "execution_count": 18,
   "id": "7cbba200",
   "metadata": {},
   "outputs": [],
   "source": [
    "from sklearn.utils import shuffle\n",
    "genres = df['Series_Title']\n",
    "indices = pd.Series(df.index, index=df['Series_Title'])\n",
    "\n",
    "def genre_genre_recommendations(genre):\n",
    "    dfg = df[df['Genre'].str.contains(genre)]\n",
    "    dfg=shuffle(dfg)\n",
    "    x=dfg['Series_Title']\n",
    "    return x"
   ]
  },
  {
   "cell_type": "code",
   "execution_count": 19,
   "id": "82b23468",
   "metadata": {
    "scrolled": true
   },
   "outputs": [
    {
     "data": {
      "text/plain": [
       "376    Pirates of the Caribbean: The Curse of the Bla...\n",
       "912                                           Zombieland\n",
       "32                                 It's a Wonderful Life\n",
       "487                               Låt den rätte komma in\n",
       "919                                             Stardust\n",
       "875                                             Fantasia\n",
       "498                                           Life of Pi\n",
       "178                      Monty Python and the Holy Grail\n",
       "593                                           About Time\n",
       "685                                         Ghostbusters\n",
       "Name: Series_Title, dtype: object"
      ]
     },
     "execution_count": 19,
     "metadata": {},
     "output_type": "execute_result"
    }
   ],
   "source": [
    "genre_genre_recommendations('Fantasy').head(10)"
   ]
  },
  {
   "cell_type": "markdown",
   "id": "8531cccb",
   "metadata": {},
   "source": [
    "# Movie Filter"
   ]
  },
  {
   "cell_type": "code",
   "execution_count": 20,
   "id": "cdc2e84c",
   "metadata": {},
   "outputs": [],
   "source": [
    "df['Series_Title'] = df['Series_Title'].fillna(\"\").astype('str')"
   ]
  },
  {
   "cell_type": "code",
   "execution_count": 21,
   "id": "af541ec1",
   "metadata": {},
   "outputs": [
    {
     "data": {
      "text/plain": [
       "(1000, 2544)"
      ]
     },
     "execution_count": 21,
     "metadata": {},
     "output_type": "execute_result"
    }
   ],
   "source": [
    "from sklearn.feature_extraction.text import TfidfVectorizer\n",
    "#tfidf_vectorizer = TfidfVectorizer ()\n",
    "tf = TfidfVectorizer(analyzer='word',ngram_range=(1, 2),min_df=0, stop_words='english')\n",
    "tfidf_matrix = tf.fit_transform(df['Series_Title'])\n",
    "tfidf_matrix.shape"
   ]
  },
  {
   "cell_type": "code",
   "execution_count": 22,
   "id": "48cd84c2",
   "metadata": {},
   "outputs": [],
   "source": [
    "from sklearn.metrics.pairwise import linear_kernel\n",
    "cosine = linear_kernel(tfidf_matrix,tfidf_matrix)\n",
    "#cosine[:5,:5]"
   ]
  },
  {
   "cell_type": "code",
   "execution_count": 23,
   "id": "be76a1e5",
   "metadata": {},
   "outputs": [],
   "source": [
    "titles = df['Series_Title']\n",
    "indices = pd.Series(df.index, index=df['Series_Title'])\n",
    "df2 = titles.to_frame()\n",
    "\n",
    "def movie_recommendations(title):\n",
    "    if title in titles.values:\n",
    "        idx = indices[title]\n",
    "        sim_scores = list(enumerate(cosine[idx]>0.0))\n",
    "        sim_scores = sorted(sim_scores, key=lambda x: x[1], reverse=True)\n",
    "        aa=[f[1] for f in sim_scores]\n",
    "        b=aa.count(True)\n",
    "        sim_scores = sim_scores[0:b]\n",
    "        movie_indices = [i[0] for i in sim_scores]\n",
    "        name2 = titles.iloc[movie_indices]\n",
    "        return name2\n",
    "\n",
    "    dff = df[df['Series_Title'].str.contains(title)]\n",
    "    name = dff['Series_Title']\n",
    "    return name "
   ]
  },
  {
   "cell_type": "code",
   "execution_count": 24,
   "id": "09511bc8",
   "metadata": {
    "scrolled": true
   },
   "outputs": [
    {
     "data": {
      "text/plain": [
       "226    Harry Potter and the Deathly Hallows: Part 2\n",
       "506        Harry Potter and the Prisoner of Azkaban\n",
       "755    Harry Potter and the Deathly Hallows: Part 1\n",
       "781             Harry Potter and the Goblet of Fire\n",
       "853                                     Dirty Harry\n",
       "927          Harry Potter and the Half-Blood Prince\n",
       "947           Harry Potter and the Sorcerer's Stone\n",
       "975                         When Harry Met Sally...\n",
       "Name: Series_Title, dtype: object"
      ]
     },
     "execution_count": 24,
     "metadata": {},
     "output_type": "execute_result"
    }
   ],
   "source": [
    "movie_recommendations('Harry')"
   ]
  },
  {
   "cell_type": "code",
   "execution_count": 25,
   "id": "43514c70",
   "metadata": {},
   "outputs": [
    {
     "data": {
      "text/plain": [
       "4                    12 Angry Men\n",
       "215              12 Years a Slave\n",
       "232        No Country for Old Men\n",
       "336                 Short Term 12\n",
       "479    X-Men: Days of Future Past\n",
       "513               Children of Men\n",
       "536       All the President's Men\n",
       "794     Hedwig and the Angry Inch\n",
       "824                A Few Good Men\n",
       "Name: Series_Title, dtype: object"
      ]
     },
     "execution_count": 25,
     "metadata": {},
     "output_type": "execute_result"
    }
   ],
   "source": [
    "movie_recommendations('12 Angry Men')"
   ]
  },
  {
   "cell_type": "markdown",
   "id": "1be280bf",
   "metadata": {},
   "source": [
    "# Director Filter"
   ]
  },
  {
   "cell_type": "code",
   "execution_count": 28,
   "id": "2351999e",
   "metadata": {},
   "outputs": [],
   "source": [
    "def directors_recommendations(Director):\n",
    "    dd = df[df['Director'].str.contains(Director)]\n",
    "    return dd['Series_Title']"
   ]
  },
  {
   "cell_type": "code",
   "execution_count": 29,
   "id": "fa96f855",
   "metadata": {
    "scrolled": true
   },
   "outputs": [
    {
     "ename": "NameError",
     "evalue": "name 'director_recommendations' is not defined",
     "output_type": "error",
     "traceback": [
      "\u001b[1;31m---------------------------------------------------------------------------\u001b[0m",
      "\u001b[1;31mNameError\u001b[0m                                 Traceback (most recent call last)",
      "Cell \u001b[1;32mIn[29], line 1\u001b[0m\n\u001b[1;32m----> 1\u001b[0m \u001b[43mdirector_recommendations\u001b[49m(\u001b[38;5;124m'\u001b[39m\u001b[38;5;124mYates\u001b[39m\u001b[38;5;124m'\u001b[39m)\n",
      "\u001b[1;31mNameError\u001b[0m: name 'director_recommendations' is not defined"
     ]
    }
   ],
   "source": [
    "director_recommendations('Yates')"
   ]
  },
  {
   "cell_type": "markdown",
   "id": "ac14076b",
   "metadata": {},
   "source": [
    "# Rating Filter"
   ]
  },
  {
   "cell_type": "code",
   "execution_count": 93,
   "id": "bf998246",
   "metadata": {},
   "outputs": [],
   "source": [
    "from sklearn.utils import shuffle\n",
    "genres = df['Series_Title']\n",
    "indices = pd.Series(df.index, index=df['Series_Title'])\n",
    "\n",
    "\n",
    "def genre_rating_recommendations(genre):\n",
    "    dd = df\n",
    "    dd['IMDB_Rating'] = dd['IMDB_Rating'].apply(math.floor)\n",
    "    df3 = dd['IMDB_Rating']\n",
    "    dfg = df[df['Genre'].str.contains(genre)]\n",
    "    dfg.insert(1,'Rating',df3)\n",
    "    dfg = shuffle(dfg)\n",
    "    dfg = dfg.sort_values('Rating', ascending = False, ignore_index = True)\n",
    "    x=dfg['Series_Title']\n",
    "    return x"
   ]
  },
  {
   "cell_type": "code",
   "execution_count": 99,
   "id": "97863cbe",
   "metadata": {},
   "outputs": [
    {
     "data": {
      "text/plain": [
       "0             Lage Raho Munna Bhai\n",
       "1              Singin' in the Rain\n",
       "2                       Casablanca\n",
       "3                     Forrest Gump\n",
       "4       The Shop Around the Corner\n",
       "                  ...             \n",
       "120          From Here to Eternity\n",
       "121                    Vicky Donor\n",
       "122             As Good as It Gets\n",
       "123    The Broken Circle Breakdown\n",
       "124              Pride & Prejudice\n",
       "Name: Series_Title, Length: 125, dtype: object"
      ]
     },
     "execution_count": 99,
     "metadata": {},
     "output_type": "execute_result"
    }
   ],
   "source": [
    "genre_rating_recommendations('Romance')"
   ]
  },
  {
   "cell_type": "markdown",
   "id": "23076a75",
   "metadata": {},
   "source": [
    "# Actor Filter"
   ]
  },
  {
   "cell_type": "code",
   "execution_count": 62,
   "id": "76ee6462",
   "metadata": {},
   "outputs": [],
   "source": [
    "aa = df[['Star1','Star2','Star3','Star4']]\n",
    "def actors_recommendations(Actor):\n",
    "    dd = df[aa.apply(lambda row: any(Actor in str(cell) for cell in row), axis=1)]\n",
    "    dd = shuffle(dd)\n",
    "    return dd['Series_Title']"
   ]
  },
  {
   "cell_type": "code",
   "execution_count": 63,
   "id": "5b90c9b8",
   "metadata": {},
   "outputs": [
    {
     "data": {
      "text/plain": [
       "265    Dà hóng denglong gaogao guà\n",
       "374                  Kal Ho Naa Ho\n",
       "240                 Dil Chahta Hai\n",
       "Name: Series_Title, dtype: object"
      ]
     },
     "execution_count": 63,
     "metadata": {},
     "output_type": "execute_result"
    }
   ],
   "source": [
    "#val = input()\n",
    "actors_recommendations('Saif')"
   ]
  },
  {
   "cell_type": "markdown",
   "id": "ed17328c",
   "metadata": {},
   "source": [
    "# Combine Filter"
   ]
  },
  {
   "cell_type": "code",
   "execution_count": 61,
   "id": "3d8ba7ac",
   "metadata": {},
   "outputs": [],
   "source": [
    "aa = df[['Star1','Star2','Star3','Star4']]\n",
    "def actor_recommendations(Actor):\n",
    "    dd = df[aa.apply(lambda row: any(Actor in str(cell) for cell in row), axis=1)]\n",
    "    dd = shuffle(dd)\n",
    "    s1 = set(dd['Series_Title'])\n",
    "    return s1\n",
    "\n",
    "def genre_rating_recommendations(genre):\n",
    "    dd = df\n",
    "    dd['IMDB_Rating'] = dd['IMDB_Rating'].apply(math.floor)\n",
    "    df3 = dd['IMDB_Rating']\n",
    "    dfg = df[df['Genre'].str.contains(genre)]\n",
    "    dfg.insert(1,'Rating',df3)\n",
    "    dfg = shuffle(dfg)\n",
    "    dfg = dfg.sort_values('Rating', ascending = False, ignore_index = True)\n",
    "    s2 = set(dfg['Series_Title'])\n",
    "    return s2\n",
    "\n",
    "def directors_recommendations(Director):\n",
    "    dd = df[df['Director'].str.contains(Director)]\n",
    "    s3 = set(dd['Series_Title'])\n",
    "    return s3"
   ]
  },
  {
   "cell_type": "code",
   "execution_count": 5,
   "id": "ffd8b7b1",
   "metadata": {},
   "outputs": [
    {
     "name": "stdout",
     "output_type": "stream",
     "text": [
      "Enter No. of Actors: 1\n",
      "Enter: Aks\n"
     ]
    },
    {
     "ename": "NameError",
     "evalue": "name 'actor_recommendations' is not defined",
     "output_type": "error",
     "traceback": [
      "\u001b[1;31m---------------------------------------------------------------------------\u001b[0m",
      "\u001b[1;31mNameError\u001b[0m                                 Traceback (most recent call last)",
      "Cell \u001b[1;32mIn[5], line 7\u001b[0m\n\u001b[0;32m      5\u001b[0m \u001b[38;5;28;01mif\u001b[39;00m n \u001b[38;5;241m!=\u001b[39m \u001b[38;5;241m-\u001b[39m\u001b[38;5;241m1\u001b[39m:\n\u001b[0;32m      6\u001b[0m     x \u001b[38;5;241m=\u001b[39m \u001b[38;5;28minput\u001b[39m(\u001b[38;5;124m\"\u001b[39m\u001b[38;5;124mEnter: \u001b[39m\u001b[38;5;124m\"\u001b[39m)\n\u001b[1;32m----> 7\u001b[0m     m \u001b[38;5;241m=\u001b[39m \u001b[43mactor_recommendations\u001b[49m(x)\n\u001b[0;32m      9\u001b[0m     \u001b[38;5;28;01mfor\u001b[39;00m i \u001b[38;5;129;01min\u001b[39;00m \u001b[38;5;28mrange\u001b[39m(\u001b[38;5;241m1\u001b[39m,n):\n\u001b[0;32m     10\u001b[0m         x \u001b[38;5;241m=\u001b[39m \u001b[38;5;28minput\u001b[39m(\u001b[38;5;124m\"\u001b[39m\u001b[38;5;124mEnter: \u001b[39m\u001b[38;5;124m\"\u001b[39m)\n",
      "\u001b[1;31mNameError\u001b[0m: name 'actor_recommendations' is not defined"
     ]
    }
   ],
   "source": [
    "n = int(input(\"Enter No. of Actors: \"))\n",
    "m={}\n",
    "w={}\n",
    "y={}\n",
    "if n != -1:\n",
    "    x = input(\"Enter: \")\n",
    "    m = actor_recommendations(x)\n",
    "\n",
    "    for i in range(1,n):\n",
    "        x = input(\"Enter: \")\n",
    "        y = actor_recommendations(x)\n",
    "        m = y.intersection(m)\n",
    "        \n",
    "n = int(input(\"Enter No. of Genres: \"))\n",
    "\n",
    "if n != -1:\n",
    "    if m == {}:\n",
    "        x = input(\"Enter: \")\n",
    "        w = genre_rating_recommendations(x)\n",
    "        for i in range(1,n):\n",
    "            x = input(\"Enter: \")\n",
    "            y = genre_rating_recommendations(x)\n",
    "            w = y.intersection(w)\n",
    "    else:\n",
    "        for i in range(0,n):\n",
    "            x = input(\"Enter: \")\n",
    "            y = genre_rating_recommendations(x)\n",
    "            m = y.intersection(m)\n",
    "\n",
    "for i in range (0,1): \n",
    "    x = input(\"Enter Director: \")\n",
    "    if x == '-1': \n",
    "        if m != {}:\n",
    "            y=m\n",
    "        elif w != {}:\n",
    "            y=m\n",
    "        else:\n",
    "            print(\"Input Not Found\")\n",
    "            break\n",
    "    else:\n",
    "        y = directors_recommendations(x)\n",
    "        if m != {} and w == {}:\n",
    "            y = y.intersection(m)\n",
    "        elif m == {} and w != {}:\n",
    "            y = y.intersection(w)     \n",
    "        else:\n",
    "            print()\n",
    "    mov_new = sorted(y)\n",
    "    movies_new = pd.DataFrame([sub.split(',') for sub in mov_new])\n",
    "    mov = movies_new.to_string(header = False)\n",
    "    print(mov)"
   ]
  }
 ],
 "metadata": {
  "kernelspec": {
   "display_name": "Python 3 (ipykernel)",
   "language": "python",
   "name": "python3"
  },
  "language_info": {
   "codemirror_mode": {
    "name": "ipython",
    "version": 3
   },
   "file_extension": ".py",
   "mimetype": "text/x-python",
   "name": "python",
   "nbconvert_exporter": "python",
   "pygments_lexer": "ipython3",
   "version": "3.10.9"
  }
 },
 "nbformat": 4,
 "nbformat_minor": 5
}
